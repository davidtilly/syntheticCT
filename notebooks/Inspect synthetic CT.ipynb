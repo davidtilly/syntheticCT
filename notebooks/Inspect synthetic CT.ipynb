{
 "cells": [
  {
   "cell_type": "code",
   "execution_count": 1,
   "metadata": {},
   "outputs": [],
   "source": [
    "%matplotlib inline\n",
    "import SimpleITK as sitk\n",
    "import os\n",
    "import matplotlib.pyplot as plt\n",
    "import numpy as np\n",
    "from ipywidgets import interact, fixed\n",
    "from IPython.display import clear_output\n",
    "from datasets.syntheticCT import create_registration_mask\n"
   ]
  },
  {
   "cell_type": "code",
   "execution_count": 10,
   "metadata": {},
   "outputs": [],
   "source": [
    "#\n",
    "# Functions to interactively \n",
    "#   - look at the images slice by slice,\n",
    "#   - overlay two images to compare image registration results\n",
    "#        \n",
    "def display_image_planes(image_x, image_y, image_z, image, title=''):\n",
    "    fig = plt.gcf()\n",
    "    fig.set_size_inches(30/2.54, 15/2.54)\n",
    "    ax1 = fig.add_subplot(131)\n",
    "    ax2 = fig.add_subplot(132)\n",
    "    ax3 = fig.add_subplot(133)\n",
    "    \n",
    "    img_x = image[image_x,:,:]\n",
    "    ax1.imshow(sitk.GetArrayViewFromImage(img_x), cmap=plt.cm.Greys_r)\n",
    "    #ax1.axis(\"off\")\n",
    "    ax1.set_title('X plane {}'.format(image_x))\n",
    "    \n",
    "    img_y = image[:, image_y,:]\n",
    "    ax2.imshow(sitk.GetArrayViewFromImage(img_y), cmap=plt.cm.Greys_r)\n",
    "    ax2.axis(\"off\")\n",
    "    ax2.set_title('Y plane {}'.format(image_y))\n",
    "    \n",
    "    img_z = image[:, :, image_z]\n",
    "    ax3.imshow(sitk.GetArrayViewFromImage(img_z), cmap=plt.cm.Greys_r)\n",
    "    ax3.axis(\"off\")\n",
    "    ax3.set_title('Z plane {}'.format(image_z))\n",
    "    \n",
    "    fig.suptitle(title, fontsize=30)\n",
    "    \n",
    "    fig.tight_layout()\n",
    "    plt.show()\n",
    "\n",
    "\n",
    "# Callback invoked by the IPython interact method for scrolling and modifying the alpha blending\n",
    "# of an image stack of two images that occupy the same physical space.\n",
    "def display_images_planes_with_alpha(image_x, image_y, image_z, alpha, fixed, moving, title=''):\n",
    "    fig = plt.gcf()\n",
    "    fig.set_size_inches(60/2.54, 30/2.54)\n",
    "    ax1 = fig.add_axes([0., 0.55, 0.60, 0.55])\n",
    "    ax2 = fig.add_axes([0., 0., 0.60, 0.55])\n",
    "    ax3 = fig.add_axes([0.65, 0., 0.35, 1])\n",
    "    \n",
    "    img_x = (1.0 - alpha) * fixed[image_x,:,:] + alpha * moving[image_x,:,:]\n",
    "    ax1.imshow(sitk.GetArrayViewFromImage(img_x), cmap=plt.cm.Greys_r)\n",
    "    ax1.axis(\"off\")\n",
    "    ax1.set_title('X plane {}'.format(image_x), fontsize=24)\n",
    "    \n",
    "    img_y = (1.0 - alpha) * fixed[:, image_y,:] + alpha * moving[:, image_y,:]\n",
    "    ax2.imshow(sitk.GetArrayViewFromImage(img_y), cmap=plt.cm.Greys_r)\n",
    "    ax2.axis(\"off\")\n",
    "    ax2.set_title('Y plane {}'.format(image_y), fontsize=24)\n",
    "    \n",
    "    img_z = (1.0 - alpha) * fixed[:, :, image_z] + alpha * moving[:, :, image_z]\n",
    "    ax3.imshow(sitk.GetArrayViewFromImage(img_z), cmap=plt.cm.Greys_r)\n",
    "    ax3.axis(\"off\")\n",
    "    ax3.set_title('Z plane {}'.format(image_z), fontsize=24)\n",
    "    \n",
    "    fig.suptitle(title, fontsize=30, x = 0.4, y = 1.05)\n",
    "    plt.show()\n",
    "\n",
    "def iterations_per_resolution(iterations, metrics):\n",
    "    splits = np.where(np.diff(iterations) != 1)[0]+1\n",
    "    return np.split(iterations, splits), np.split(metrics, splits)\n",
    "\n",
    "def plot_registration_iterations(registration_progress):\n",
    "    iterations, metrics = iterations_per_resolution(registration_progress[:,0], registration_progress[:,1])\n",
    "    level = 0\n",
    "    start = 0\n",
    "    for iter, metric in zip(iterations, metrics):\n",
    "        plt.plot(iter + start, metric, label=level)\n",
    "        level +=1\n",
    "        start += len(iter)\n",
    "    plt.xlabel('Iteration')\n",
    "    plt.ylabel('Similarity Metric')\n",
    "    plt.legend()\n",
    "\n",
    "    \n",
    "def pixel_correlation(image1, image2, mask):\n",
    "    image_1_np = sitk.GetArrayFromImage(image1)\n",
    "    image_2_np = sitk.GetArrayFromImage(image2)\n",
    "    mask_np = sitk.GetArrayFromImage(mask)\n",
    "    return image_1_np[mask_np > 0.5].flatten(), image_2_np[mask_np > 0.5].flatten()"
   ]
  },
  {
   "cell_type": "code",
   "execution_count": 8,
   "metadata": {},
   "outputs": [
    {
     "data": {
      "text/plain": [
       "'P:\\\\TERAPI\\\\FYSIKER\\\\David_Tilly\\\\Rect-5-study\\\\PatientData\\\\4_anonymized\\\\synthetic_CT\\\\F2'"
      ]
     },
     "execution_count": 8,
     "metadata": {},
     "output_type": "execute_result"
    }
   ],
   "source": [
    "root = r'P:\\TERAPI\\FYSIKER\\David_Tilly\\Rect-5-study\\PatientData'\n",
    "patient_id = '4'\n",
    "fraction = 'F2'\n",
    "\n",
    "#root = r'C:\\temp\\5-days-recti\\PatientData'\n",
    "result_path = os.path.join(root, '{}_anonymized'.format(patient_id), 'synthetic_CT', fraction)\n",
    "\n",
    "\n",
    "result_path\n",
    "\n"
   ]
  },
  {
   "cell_type": "code",
   "execution_count": 9,
   "metadata": {},
   "outputs": [
    {
     "data": {
      "text/plain": [
       "('32-bit float',\n",
       " '32-bit float',\n",
       " '32-bit float',\n",
       " '32-bit float',\n",
       " '32-bit float',\n",
       " '16-bit signed integer')"
      ]
     },
     "execution_count": 9,
     "metadata": {},
     "output_type": "execute_result"
    }
   ],
   "source": [
    "ct_ref_float = sitk.ReadImage(os.path.join(result_path, 'ct_ref.nii'))\n",
    "cbct_float = sitk.ReadImage(os.path.join(result_path, 'cbct.nii'))\n",
    "cbct_in_ct_for = sitk.ReadImage(os.path.join(result_path, 'cbct_in_ct_for.nii'))\n",
    "cbct_extended = sitk.ReadImage(os.path.join(result_path, 'cbct_extended.nii'))\n",
    "cbct_hu_mapped = sitk.ReadImage(os.path.join(result_path, 'cbct_hu_mapped.nii'))\n",
    "synthetic_ct = sitk.ReadImage(os.path.join(result_path, 'synthetic_ct.nii'))\n",
    "\n",
    "synthetic_ct_float = sitk.Cast(synthetic_ct, sitk.sitkFloat32)\n",
    "\n",
    "\n",
    "\n",
    "ct_ref_float.GetPixelIDTypeAsString(), cbct_float.GetPixelIDTypeAsString(), cbct_in_ct_for.GetPixelIDTypeAsString(), cbct_extended.GetPixelIDTypeAsString(), cbct_hu_mapped.GetPixelIDTypeAsString(), synthetic_ct.GetPixelIDTypeAsString()\n",
    "\n"
   ]
  },
  {
   "cell_type": "code",
   "execution_count": 11,
   "metadata": {},
   "outputs": [
    {
     "data": {
      "application/vnd.jupyter.widget-view+json": {
       "model_id": "652aaf2ba418436f903f6013ef7b75a0",
       "version_major": 2,
       "version_minor": 0
      },
      "text/plain": [
       "interactive(children=(IntSlider(value=255, description='image_x', max=511), IntSlider(value=255, description='…"
      ]
     },
     "metadata": {},
     "output_type": "display_data"
    },
    {
     "data": {
      "application/vnd.jupyter.widget-view+json": {
       "model_id": "70128c0f66e84c6f87eba4a7beb7de7a",
       "version_major": 2,
       "version_minor": 0
      },
      "text/plain": [
       "interactive(children=(IntSlider(value=134, description='image_x', max=269), IntSlider(value=134, description='…"
      ]
     },
     "metadata": {},
     "output_type": "display_data"
    }
   ],
   "source": [
    "\n",
    "#\n",
    "# Reference CT and CBCT\n",
    "#\n",
    "interact(\n",
    "    display_image_planes,\n",
    "    image_x=(0, ct_ref_float.GetSize()[0] - 1),\n",
    "    image_y=(0, ct_ref_float.GetSize()[1] - 1),\n",
    "    image_z=(0, ct_ref_float.GetSize()[2] - 1),\n",
    "    image=fixed(ct_ref_float),\n",
    "    title=fixed('CT image')\n",
    ");\n",
    "\n",
    "interact(\n",
    "    display_image_planes,\n",
    "    image_x=(0, cbct_float.GetSize()[0] - 1),\n",
    "    image_y=(0, cbct_float.GetSize()[1] - 1),\n",
    "    image_z=(0, cbct_float.GetSize()[2] - 1),\n",
    "    image=fixed(cbct_float),\n",
    "    title=fixed('CBCT image')\n",
    ");\n",
    "\n"
   ]
  },
  {
   "cell_type": "code",
   "execution_count": 12,
   "metadata": {},
   "outputs": [
    {
     "data": {
      "application/vnd.jupyter.widget-view+json": {
       "model_id": "3ebccf79d7e843859376618e7142c8c1",
       "version_major": 2,
       "version_minor": 0
      },
      "text/plain": [
       "interactive(children=(IntSlider(value=255, description='image_x', max=511), IntSlider(value=255, description='…"
      ]
     },
     "metadata": {},
     "output_type": "display_data"
    },
    {
     "data": {
      "image/png": "[encoded data removed]",
      "text/plain": [
       "<Figure size 432x288 with 1 Axes>"
      ]
     },
     "metadata": {
      "needs_background": "light"
     },
     "output_type": "display_data"
    }
   ],
   "source": [
    "#\n",
    "# Inspect the rigid registration, overlay of CT wit the resampled CBCT\n",
    "#\n",
    "interact(\n",
    "    display_images_planes_with_alpha,\n",
    "    image_x=(0, ct_ref_float.GetSize()[0] - 1),\n",
    "    image_y=(0, ct_ref_float.GetSize()[1] - 1),\n",
    "    image_z=(0, ct_ref_float.GetSize()[2] - 1),\n",
    "    alpha=(0.0, 1.0, 0.05),\n",
    "    fixed=fixed(ct_ref_float),\n",
    "    moving=fixed(cbct_in_ct_for),\n",
    "    title=fixed('CT vs CBCT resampled')\n",
    ");\n",
    "   \n",
    "\n",
    "rigid_iterations = np.loadtxt(os.path.join(result_path, 'rigid_registration.txt'))\n",
    "plot_registration_iterations(rigid_iterations)\n",
    "\n"
   ]
  },
  {
   "cell_type": "code",
   "execution_count": 13,
   "metadata": {},
   "outputs": [
    {
     "data": {
      "application/vnd.jupyter.widget-view+json": {
       "model_id": "3089b40ad4844560a23f49cd07465da8",
       "version_major": 2,
       "version_minor": 0
      },
      "text/plain": [
       "interactive(children=(IntSlider(value=255, description='image_x', max=511), IntSlider(value=255, description='…"
      ]
     },
     "metadata": {},
     "output_type": "display_data"
    }
   ],
   "source": [
    "#\n",
    "# Create mask to overwerite all pixels in CT with the resampled CBCT (where pixels > -800)\n",
    "# Use the CT as a template to extend the anatomy of the CBCT\n",
    "#\n",
    "\n",
    "interact(\n",
    "    display_images_planes_with_alpha,\n",
    "    image_x=(0, ct_ref_float.GetSize()[0] - 1),\n",
    "    image_y=(0, ct_ref_float.GetSize()[1] - 1),\n",
    "    image_z=(0, ct_ref_float.GetSize()[2] - 1),\n",
    "    alpha=(0.0, 1.0, 0.05),\n",
    "    fixed=fixed(ct_ref_float),\n",
    "    moving=fixed(cbct_extended),\n",
    "    title=fixed('CT vs CBCT extended')\n",
    ");\n",
    "\n"
   ]
  },
  {
   "cell_type": "code",
   "execution_count": 15,
   "metadata": {},
   "outputs": [
    {
     "data": {
      "application/vnd.jupyter.widget-view+json": {
       "model_id": "c88790bec39b44ff80c682678bbf11f2",
       "version_major": 2,
       "version_minor": 0
      },
      "text/plain": [
       "interactive(children=(IntSlider(value=255, description='image_x', max=511), IntSlider(value=255, description='…"
      ]
     },
     "metadata": {},
     "output_type": "display_data"
    },
    {
     "data": {
      "application/vnd.jupyter.widget-view+json": {
       "model_id": "02d9233233634717abe441f31fe300fc",
       "version_major": 2,
       "version_minor": 0
      },
      "text/plain": [
       "interactive(children=(IntSlider(value=255, description='image_x', max=511), IntSlider(value=255, description='…"
      ]
     },
     "metadata": {},
     "output_type": "display_data"
    },
    {
     "name": "stderr",
     "output_type": "stream",
     "text": [
      "C:\\Users\\tid003\\.conda\\envs\\py37\\lib\\site-packages\\ipykernel_launcher.py:29: UserWarning: loadtxt: Empty input file: \"P:\\TERAPI\\FYSIKER\\David_Tilly\\Rect-5-study\\PatientData\\4_anonymized\\synthetic_CT\\F2\\def_reg_registration.txt\"\n"
     ]
    },
    {
     "ename": "IndexError",
     "evalue": "too many indices for array",
     "output_type": "error",
     "traceback": [
      "\u001b[1;31m---------------------------------------------------------------------------\u001b[0m",
      "\u001b[1;31mIndexError\u001b[0m                                Traceback (most recent call last)",
      "\u001b[1;32m~\\AppData\\Local\\Temp\\ipykernel_84780\\2549116167.py\u001b[0m in \u001b[0;36m<module>\u001b[1;34m\u001b[0m\n\u001b[0;32m     28\u001b[0m \u001b[1;33m\u001b[0m\u001b[0m\n\u001b[0;32m     29\u001b[0m \u001b[0mdef_reg_iterations\u001b[0m \u001b[1;33m=\u001b[0m \u001b[0mnp\u001b[0m\u001b[1;33m.\u001b[0m\u001b[0mloadtxt\u001b[0m\u001b[1;33m(\u001b[0m\u001b[0mos\u001b[0m\u001b[1;33m.\u001b[0m\u001b[0mpath\u001b[0m\u001b[1;33m.\u001b[0m\u001b[0mjoin\u001b[0m\u001b[1;33m(\u001b[0m\u001b[0mresult_path\u001b[0m\u001b[1;33m,\u001b[0m \u001b[1;34m'def_reg_registration.txt'\u001b[0m\u001b[1;33m)\u001b[0m\u001b[1;33m)\u001b[0m\u001b[1;33m\u001b[0m\u001b[1;33m\u001b[0m\u001b[0m\n\u001b[1;32m---> 30\u001b[1;33m \u001b[0mplot_registration_iterations\u001b[0m\u001b[1;33m(\u001b[0m\u001b[0mdef_reg_iterations\u001b[0m\u001b[1;33m)\u001b[0m\u001b[1;33m\u001b[0m\u001b[1;33m\u001b[0m\u001b[0m\n\u001b[0m",
      "\u001b[1;32m~\\AppData\\Local\\Temp\\ipykernel_84780\\502089479.py\u001b[0m in \u001b[0;36mplot_registration_iterations\u001b[1;34m(registration_progress)\u001b[0m\n\u001b[0;32m     64\u001b[0m \u001b[1;33m\u001b[0m\u001b[0m\n\u001b[0;32m     65\u001b[0m \u001b[1;32mdef\u001b[0m \u001b[0mplot_registration_iterations\u001b[0m\u001b[1;33m(\u001b[0m\u001b[0mregistration_progress\u001b[0m\u001b[1;33m)\u001b[0m\u001b[1;33m:\u001b[0m\u001b[1;33m\u001b[0m\u001b[1;33m\u001b[0m\u001b[0m\n\u001b[1;32m---> 66\u001b[1;33m     \u001b[0miterations\u001b[0m\u001b[1;33m,\u001b[0m \u001b[0mmetrics\u001b[0m \u001b[1;33m=\u001b[0m \u001b[0miterations_per_resolution\u001b[0m\u001b[1;33m(\u001b[0m\u001b[0mregistration_progress\u001b[0m\u001b[1;33m[\u001b[0m\u001b[1;33m:\u001b[0m\u001b[1;33m,\u001b[0m\u001b[1;36m0\u001b[0m\u001b[1;33m]\u001b[0m\u001b[1;33m,\u001b[0m \u001b[0mregistration_progress\u001b[0m\u001b[1;33m[\u001b[0m\u001b[1;33m:\u001b[0m\u001b[1;33m,\u001b[0m\u001b[1;36m1\u001b[0m\u001b[1;33m]\u001b[0m\u001b[1;33m)\u001b[0m\u001b[1;33m\u001b[0m\u001b[1;33m\u001b[0m\u001b[0m\n\u001b[0m\u001b[0;32m     67\u001b[0m     \u001b[0mlevel\u001b[0m \u001b[1;33m=\u001b[0m \u001b[1;36m0\u001b[0m\u001b[1;33m\u001b[0m\u001b[1;33m\u001b[0m\u001b[0m\n\u001b[0;32m     68\u001b[0m     \u001b[0mstart\u001b[0m \u001b[1;33m=\u001b[0m \u001b[1;36m0\u001b[0m\u001b[1;33m\u001b[0m\u001b[1;33m\u001b[0m\u001b[0m\n",
      "\u001b[1;31mIndexError\u001b[0m: too many indices for array"
     ]
    }
   ],
   "source": [
    "#\n",
    "# Compare original CT and mapped CT\n",
    "#\n",
    "interact(\n",
    "    display_images_planes_with_alpha,\n",
    "    image_x=(0, cbct_hu_mapped.GetSize()[0] - 1),\n",
    "    image_y=(0, cbct_hu_mapped.GetSize()[1] - 1),\n",
    "    image_z=(0, cbct_hu_mapped.GetSize()[2] - 1),\n",
    "    alpha=(0.0, 1.0, 0.05),\n",
    "    fixed=fixed(ct_ref_float),\n",
    "    moving=fixed(cbct_hu_mapped),\n",
    "    title=fixed('CT vs CBCT with mapped HU')\n",
    ");\n",
    "\n",
    "#\n",
    "# Compare synthetic CT and the CBCT (should be same)\n",
    "#\n",
    "interact(\n",
    "    display_images_planes_with_alpha,\n",
    "    image_x=(0, cbct_hu_mapped.GetSize()[0] - 1),\n",
    "    image_y=(0, cbct_hu_mapped.GetSize()[1] - 1),\n",
    "    image_z=(0, cbct_hu_mapped.GetSize()[2] - 1),\n",
    "    alpha=(0.0, 1.0, 0.05),\n",
    "    fixed=fixed(cbct_extended),\n",
    "    moving=fixed(cbct_hu_mapped),\n",
    "    title=fixed('CBCT extended vs CBCT with mapped HU')\n",
    ");\n",
    "\n",
    "def_reg_iterations = np.loadtxt(os.path.join(result_path, 'def_reg_registration.txt'))\n",
    "plot_registration_iterations(def_reg_iterations)\n"
   ]
  },
  {
   "cell_type": "code",
   "execution_count": 16,
   "metadata": {},
   "outputs": [
    {
     "data": {
      "application/vnd.jupyter.widget-view+json": {
       "model_id": "d8d6c686626a408d8c212baa8eaffb37",
       "version_major": 2,
       "version_minor": 0
      },
      "text/plain": [
       "interactive(children=(IntSlider(value=255, description='image_x', max=511), IntSlider(value=255, description='…"
      ]
     },
     "metadata": {},
     "output_type": "display_data"
    },
    {
     "data": {
      "application/vnd.jupyter.widget-view+json": {
       "model_id": "1a834c115d0f4d3587dabe9eadf1a7d6",
       "version_major": 2,
       "version_minor": 0
      },
      "text/plain": [
       "interactive(children=(IntSlider(value=255, description='image_x', max=511), IntSlider(value=255, description='…"
      ]
     },
     "metadata": {},
     "output_type": "display_data"
    }
   ],
   "source": [
    "#\n",
    "# Compare original CT and final synthetic CT\n",
    "#\n",
    "interact(\n",
    "    display_images_planes_with_alpha,\n",
    "    image_x=(0, synthetic_ct.GetSize()[0] - 1),\n",
    "    image_y=(0, synthetic_ct.GetSize()[1] - 1),\n",
    "    image_z=(0, synthetic_ct.GetSize()[2] - 1),\n",
    "    alpha=(0.0, 1.0, 0.05),\n",
    "    fixed=fixed(ct_ref_float),\n",
    "    moving=fixed(synthetic_ct_float),\n",
    "    title=fixed('CT vs synthetic CT')\n",
    ");\n",
    "\n",
    "\n",
    "#\n",
    "# Compare synthetic CT and the CBCT (should be same)\n",
    "#\n",
    "interact(\n",
    "    display_images_planes_with_alpha,\n",
    "    image_x=(0, synthetic_ct.GetSize()[0] - 1),\n",
    "    image_y=(0, synthetic_ct.GetSize()[1] - 1),\n",
    "    image_z=(0, synthetic_ct.GetSize()[2] - 1),\n",
    "    alpha=(0.0, 1.0, 0.05),\n",
    "    fixed=fixed(cbct_extended),\n",
    "    moving=fixed(synthetic_ct_float),\n",
    "    title=fixed('CBCT extended vs synthetic CT')\n",
    ");\n"
   ]
  },
  {
   "cell_type": "code",
   "execution_count": 17,
   "metadata": {},
   "outputs": [
    {
     "data": {
      "text/plain": [
       "<matplotlib.legend.Legend at 0x26e64e87c88>"
      ]
     },
     "execution_count": 17,
     "metadata": {},
     "output_type": "execute_result"
    },
    {
     "data": {
      "image/png": "[encoded data removed]",
      "text/plain": [
       "<Figure size 850.394x425.197 with 1 Axes>"
      ]
     },
     "metadata": {
      "needs_background": "light"
     },
     "output_type": "display_data"
    }
   ],
   "source": [
    "def read_image_series(path):\n",
    "    \n",
    "    reader = sitk.ImageSeriesReader()\n",
    "    dicom_names = reader.GetGDCMSeriesFileNames(path)\n",
    "\n",
    "    # remove all files starting with filename 'R'\n",
    "    dicom_names = list(filter( lambda fname: not os.path.basename(fname).startswith('R'), dicom_names))\n",
    "\n",
    "    reader.SetFileNames(dicom_names)\n",
    "    ct = reader.Execute()\n",
    "\n",
    "    ct_float = sitk.Cast(ct, sitk.sitkFloat32)\n",
    "\n",
    "    return ct_float\n",
    "\n",
    "s_ct_from_files = read_image_series(result_path)\n",
    "\n",
    "#\n",
    "# Pixel to pixel correlation\n",
    "#\n",
    "cbct_mask = create_registration_mask(cbct_in_ct_for)\n",
    "\n",
    "\n",
    "ct_pixels, cbct_pixels = pixel_correlation(ct_ref_float, cbct_in_ct_for, cbct_mask)\n",
    "cbct_mapped_pixels, cbct_pixels = pixel_correlation(cbct_hu_mapped, cbct_in_ct_for, cbct_mask)\n",
    "s_ct_pixels, cbct_pixels = pixel_correlation(s_ct_from_files, cbct_in_ct_for, cbct_mask)\n",
    "\n",
    "#size = ct_ref_float.GetSize()+\n",
    "#print(len(ct_pixels), len(cbct_pixels), size[0]*size[1]*size[2])\n",
    "\n",
    "f, ax = plt.subplots(figsize=(30/2.54, 15/2.54))\n",
    "\n",
    "ax.hist(ct_pixels, bins = 50, label='CT', histtype='step', align='mid', density=True)\n",
    "ax.hist(cbct_pixels, bins = 50, label='CBCT', histtype='step', align='mid', density=True)\n",
    "ax.hist(cbct_mapped_pixels, bins = 50, label='CBCT mapped', histtype='step', align='mid', density=True)\n",
    "ax.hist(s_ct_pixels, bins = 50, label='sCT result', histtype='step', align='mid', density=True)\n",
    "\n",
    "ax.set_xlim([-1000, 1000])\n",
    "ax.set_xlabel('HU')\n",
    "ax.legend()\n",
    "\n",
    "\n"
   ]
  },
  {
   "cell_type": "code",
   "execution_count": null,
   "metadata": {},
   "outputs": [],
   "source": []
  }
 ],
 "metadata": {
  "kernelspec": {
   "display_name": "Python 3 (ipykernel)",
   "language": "python",
   "name": "python3"
  },
  "language_info": {
   "codemirror_mode": {
    "name": "ipython",
    "version": 3
   },
   "file_extension": ".py",
   "mimetype": "text/x-python",
   "name": "python",
   "nbconvert_exporter": "python",
   "pygments_lexer": "ipython3",
   "version": "3.7.3"
  }
 },
 "nbformat": 4,
 "nbformat_minor": 4
}
