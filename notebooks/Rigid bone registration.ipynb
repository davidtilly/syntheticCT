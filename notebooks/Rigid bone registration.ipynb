{
 "cells": [
  {
   "cell_type": "code",
   "execution_count": 1,
   "metadata": {},
   "outputs": [],
   "source": [
    "%matplotlib inline\n",
    "import SimpleITK as sitk\n",
    "import os\n",
    "import matplotlib.pyplot as plt\n",
    "import numpy as np\n",
    "from ipywidgets import interact, fixed\n",
    "from IPython.display import clear_output\n",
    "from datasets.syntheticCT import create_registration_mask\n"
   ]
  },
  {
   "cell_type": "markdown",
   "metadata": {},
   "source": [
    "## Help functions"
   ]
  },
  {
   "cell_type": "code",
   "execution_count": 10,
   "metadata": {},
   "outputs": [],
   "source": [
    "def display_image_planes(image_x, image_y, image_z, image):\n",
    "    fig = plt.gcf()\n",
    "    fig.set_size_inches(30/2.54, 15/2.54)\n",
    "    ax1 = fig.add_subplot(131)\n",
    "    ax2 = fig.add_subplot(132)\n",
    "    ax3 = fig.add_subplot(133)\n",
    "    \n",
    "    img_x = image[image_x,:,:]\n",
    "    ax1.imshow(sitk.GetArrayViewFromImage(img_x), cmap=plt.cm.Greys_r)\n",
    "    #ax1.axis(\"off\")\n",
    "    ax1.set_title('X plane')\n",
    "    \n",
    "    img_y = image[:, image_y,:]\n",
    "    ax2.imshow(sitk.GetArrayViewFromImage(img_y), cmap=plt.cm.Greys_r)\n",
    "    ax2.axis(\"off\")\n",
    "    ax2.set_title('Y plane')\n",
    "    \n",
    "    img_z = image[:, :, image_z]\n",
    "    ax3.imshow(sitk.GetArrayViewFromImage(img_z), cmap=plt.cm.Greys_r)\n",
    "    ax3.axis(\"off\")\n",
    "    ax3.set_title('Z plane')\n",
    "    \n",
    "    fig.tight_layout()\n",
    "    plt.show()\n",
    "    \n",
    "def display_images_planes_with_alpha(image_x, image_y, image_z, alpha, fixed, moving):\n",
    "    fig = plt.gcf()\n",
    "    fig.set_size_inches(60/2.54, 30/2.54)\n",
    "    ax1 = fig.add_axes([0., 0.55, 0.60, 0.55])\n",
    "    ax2 = fig.add_axes([0., 0., 0.60, 0.55])\n",
    "    ax3 = fig.add_axes([0.65, 0., 0.35, 1])\n",
    "    \n",
    "    img_x = (1.0 - alpha) * fixed[image_x,:,:] + alpha * moving[image_x,:,:]\n",
    "    ax1.imshow(sitk.GetArrayViewFromImage(img_x), cmap=plt.cm.Greys_r)\n",
    "    ax1.axis(\"off\")\n",
    "    ax1.set_title('X plane', fontsize=24)\n",
    "    \n",
    "    img_y = (1.0 - alpha) * fixed[:, image_y,:] + alpha * moving[:, image_y,:]\n",
    "    ax2.imshow(sitk.GetArrayViewFromImage(img_y), cmap=plt.cm.Greys_r)\n",
    "    ax2.axis(\"off\")\n",
    "    ax2.set_title('Y plane', fontsize=24)\n",
    "    \n",
    "    img_z = (1.0 - alpha) * fixed[:, :, image_z] + alpha * moving[:, :, image_z]\n",
    "    ax3.imshow(sitk.GetArrayViewFromImage(img_z), cmap=plt.cm.Greys_r)\n",
    "    ax3.axis(\"off\")\n",
    "    ax3.set_title('Z plane', fontsize=24)\n",
    "    \n",
    "    plt.show()\n",
    "\n",
    "\n",
    "def rigid_translation(image_x, image_y, image_z, alpha, tx, ty, tz, fixed, moving):\n",
    "    \n",
    "    # resample moving image using tx, ty, tz\n",
    "    translation_transform = sitk.TranslationTransform(3)\n",
    "    translation_transform.SetParameters((tx, ty, tz))\n",
    "    \n",
    "    moving_translated = sitk.Resample(\n",
    "        moving,\n",
    "        fixed,\n",
    "        translation_transform,\n",
    "        sitk.sitkLinear,\n",
    "        -1000,\n",
    "        fixed.GetPixelID(),\n",
    "    )\n",
    "    \n",
    "        \n",
    "    fig = plt.gcf()\n",
    "    fig.set_size_inches(60/2.54, 40/2.54)\n",
    "    ax1 = fig.add_axes([0., 0.55, 0.60, 0.55])\n",
    "    ax2 = fig.add_axes([0., 0., 0.60, 0.55])\n",
    "    ax3 = fig.add_axes([0.65, 0., 0.35, 1])\n",
    "    \n",
    "    img_x = (1.0 - alpha) * fixed[image_x,:,:] + alpha * moving_translated[image_x,:,:]\n",
    "    ax1.imshow(sitk.GetArrayViewFromImage(img_x), cmap=plt.cm.Greys_r)\n",
    "    ax1.axis(\"off\")\n",
    "    ax1.set_title('X plane ({}), Tx = {} mm'.format(image_x, tx), fontsize=24)\n",
    "    \n",
    "    img_y = (1.0 - alpha) * fixed[:, image_y,:] + alpha * moving_translated[:, image_y,:]\n",
    "    ax2.imshow(sitk.GetArrayViewFromImage(img_y), cmap=plt.cm.Greys_r)\n",
    "    ax2.axis(\"off\")\n",
    "    ax2.set_title('Y plane ({}), Ty = {} mm'.format(image_y, ty), fontsize=24)\n",
    "    \n",
    "    img_z = (1.0 - alpha) * fixed[:, :, image_z] + alpha * moving_translated[:, :, image_z]\n",
    "    ax3.imshow(sitk.GetArrayViewFromImage(img_z), cmap=plt.cm.Greys_r)\n",
    "    ax3.axis(\"off\")\n",
    "    ax3.set_title('Z plane ({}), Tz = {} mm'.format(image_z, tz), fontsize=24)\n",
    "    \n",
    "    plt.show()\n",
    "    \n",
    "\n",
    "def output_image(image, filename):\n",
    "    writer = sitk.ImageFileWriter()\n",
    "    writer.SetFileName(filename)\n",
    "    writer.SetImageIO(\"NiftiImageIO\")\n",
    "    writer.Execute(image)\n"
   ]
  },
  {
   "cell_type": "markdown",
   "metadata": {},
   "source": [
    "## Read image data"
   ]
  },
  {
   "cell_type": "code",
   "execution_count": 16,
   "metadata": {},
   "outputs": [
    {
     "name": "stdout",
     "output_type": "stream",
     "text": [
      "start reading images\n",
      "start reading images 1\n"
     ]
    },
    {
     "data": {
      "application/vnd.jupyter.widget-view+json": {
       "model_id": "99b8295937f94a4cbfff03a77ae841e5",
       "version_major": 2,
       "version_minor": 0
      },
      "text/plain": [
       "interactive(children=(IntSlider(value=134, description='image_x', max=269), IntSlider(value=134, description='…"
      ]
     },
     "metadata": {},
     "output_type": "display_data"
    }
   ],
   "source": [
    "patient_id = '22'\n",
    "fraction = 'F1'\n",
    "\n",
    "root = r'C:\\temp\\5-days-recti\\PatientData'\n",
    "result_path = os.path.join(root, '{}_anonymized'.format(patient_id), 'synthetic_CT', fraction)\n",
    "\n",
    "print('start reading images')\n",
    "ct_ref_float = sitk.ReadImage(os.path.join(result_path, 'ct_ref.nii'))\n",
    "print('start reading images 1')\n",
    "cbct_float = sitk.ReadImage(os.path.join(result_path, 'cbct.nii'))\n",
    "cbct_matched = sitk.ReadImage(os.path.join(result_path, 'cbct_matched.nii'))\n",
    "cbct_in_ct_for = sitk.ReadImage(os.path.join(result_path, 'cbct_in_ct_for.nii'))\n",
    "cbct_cog_in_ct_for = sitk.ReadImage(os.path.join(result_path, 'cbct_cog.nii'))\n",
    "\n",
    "\n",
    "interact(\n",
    "    display_image_planes,\n",
    "    image_x=(0, cbct_float.GetSize()[0] - 1),\n",
    "    image_y=(0, cbct_float.GetSize()[1] - 1),\n",
    "    image_z=(0, cbct_float.GetSize()[2] - 1),\n",
    "    image=fixed(cbct_float),\n",
    ");\n",
    "\n",
    " \n",
    "    \n"
   ]
  },
  {
   "cell_type": "markdown",
   "metadata": {},
   "source": [
    "## Evaluate original rigid registration results"
   ]
  },
  {
   "cell_type": "code",
   "execution_count": 17,
   "metadata": {},
   "outputs": [
    {
     "data": {
      "application/vnd.jupyter.widget-view+json": {
       "model_id": "6dde9697e5f84506958d0586891b28de",
       "version_major": 2,
       "version_minor": 0
      },
      "text/plain": [
       "VBox(children=(HBox(children=(IntSlider(value=256, description='X', max=511), IntSlider(value=256, description…"
      ]
     },
     "metadata": {},
     "output_type": "display_data"
    },
    {
     "data": {
      "application/vnd.jupyter.widget-view+json": {
       "model_id": "734c9a7909a940918defa99108c47479",
       "version_major": 2,
       "version_minor": 0
      },
      "text/plain": [
       "Output()"
      ]
     },
     "metadata": {},
     "output_type": "display_data"
    }
   ],
   "source": [
    "import ipywidgets\n",
    "\n",
    "wx = ipywidgets.IntSlider(value = ct_ref_float.GetSize()[0] // 2, min = 0, max = ct_ref_float.GetSize()[0] - 1, description='X')\n",
    "wy = ipywidgets.IntSlider(value = ct_ref_float.GetSize()[1] // 2, min = 0, max = ct_ref_float.GetSize()[1] - 1, description='Y')\n",
    "wz = ipywidgets.IntSlider(value = ct_ref_float.GetSize()[2] // 2, min = 0, max = ct_ref_float.GetSize()[2] - 1, description='Z')\n",
    "walpha = ipywidgets.FloatSlider(value = 0.5, min = 0., max = 1., description='Alpha')\n",
    "ui = ipywidgets.VBox([ipywidgets.HBox([wx, wy, wz]), ipywidgets.HBox([walpha])])\n",
    "\n",
    "out = ipywidgets.interactive_output(display_images_planes_with_alpha, \n",
    "                                    {'image_x': wx, 'image_y': wy, 'image_z': wz, 'alpha': walpha, \n",
    "                                     'fixed' : fixed(ct_ref_float), 'moving' : fixed(cbct_in_ct_for)})\n",
    "\n",
    "display(ui, out)\n",
    "\n"
   ]
  },
  {
   "cell_type": "markdown",
   "metadata": {},
   "source": [
    "## Manual rigid translation"
   ]
  },
  {
   "cell_type": "code",
   "execution_count": 18,
   "metadata": {},
   "outputs": [
    {
     "data": {
      "application/vnd.jupyter.widget-view+json": {
       "model_id": "11d088c64e36408e9b8fbc8cfab567b4",
       "version_major": 2,
       "version_minor": 0
      },
      "text/plain": [
       "VBox(children=(HBox(children=(IntSlider(value=256, description='X', max=511), IntSlider(value=256, description…"
      ]
     },
     "metadata": {},
     "output_type": "display_data"
    },
    {
     "data": {
      "application/vnd.jupyter.widget-view+json": {
       "model_id": "685f4081b2d54f84ae14bc80351c2ac6",
       "version_major": 2,
       "version_minor": 0
      },
      "text/plain": [
       "Output()"
      ]
     },
     "metadata": {},
     "output_type": "display_data"
    }
   ],
   "source": [
    "import ipywidgets\n",
    "\n",
    "wx = ipywidgets.IntSlider(value = ct_ref_float.GetSize()[0] // 2, min = 0, max = ct_ref_float.GetSize()[0] - 1, description='X')\n",
    "wy = ipywidgets.IntSlider(value = ct_ref_float.GetSize()[1] // 2, min = 0, max = ct_ref_float.GetSize()[1] - 1, description='Y')\n",
    "wz = ipywidgets.IntSlider(value = ct_ref_float.GetSize()[2] // 2, min = 0, max = ct_ref_float.GetSize()[2] - 1, description='Z')\n",
    "walpha = ipywidgets.FloatSlider(value = 0.5, min = 0., max = 1., step = 0.1, description='Alpha')\n",
    "\n",
    "tx = ipywidgets.FloatSlider(value = 0, min = -50., max = 50., step = 0.5, description = 'Trans X (mm)')\n",
    "ty = ipywidgets.FloatSlider(value = 0, min = -50., max = 50., step = 0.5, description = 'Trans Y (mm)')\n",
    "tz = ipywidgets.FloatSlider(value = 0, min = -50., max = 50., step = 0.5, description = 'Trans Z (mm)')\n",
    "\n",
    "ui = ipywidgets.VBox([ipywidgets.HBox([wx, wy, wz]), ipywidgets.HBox([walpha]), ipywidgets.HBox([tx, ty, tz])])\n",
    "\n",
    "\n",
    "out = ipywidgets.interactive_output(rigid_translation, \n",
    "                                    {'image_x': wx, 'image_y': wy, 'image_z': wz, 'alpha': walpha,\n",
    "                                     'tx': tx, 'ty': ty, 'tz': tz, \n",
    "                                     'fixed' : fixed(ct_ref_float), 'moving' : fixed(cbct_in_ct_for)})\n",
    "\n",
    "display(ui, out)\n",
    "\n"
   ]
  },
  {
   "cell_type": "markdown",
   "metadata": {},
   "source": [
    "## Save the resample image from the manual registration "
   ]
  },
  {
   "cell_type": "code",
   "execution_count": 19,
   "metadata": {},
   "outputs": [
    {
     "name": "stdout",
     "output_type": "stream",
     "text": [
      "Manual translation: (0.0, 0.0, 12.5)\n"
     ]
    }
   ],
   "source": [
    "# translation from manual rigid registration\n",
    "translation = (tx.get_interact_value(), ty.get_interact_value(), tz.get_interact_value())\n",
    "print('Manual translation:', translation)\n",
    "               \n",
    "translation_transform = sitk.TranslationTransform(3)\n",
    "translation_transform.SetParameters(translation)\n",
    "\n",
    "cbct_in_ct_for_manual = sitk.Resample(\n",
    "    cbct_in_ct_for,\n",
    "    ct_ref_float,\n",
    "    translation_transform,\n",
    "    sitk.sitkLinear,\n",
    "    -1000,\n",
    "    ct_ref_float.GetPixelID(),\n",
    ")\n",
    "               \n",
    "output_image(cbct_in_ct_for_manual, os.path.join(result_path, 'cbct_in_ct_for_manual.nii'))\n",
    "               "
   ]
  },
  {
   "cell_type": "markdown",
   "metadata": {},
   "source": [
    "## Double Check results by reading the new image"
   ]
  },
  {
   "cell_type": "code",
   "execution_count": 20,
   "metadata": {},
   "outputs": [
    {
     "data": {
      "application/vnd.jupyter.widget-view+json": {
       "model_id": "8460884b798e498da0d4f7845fb2211b",
       "version_major": 2,
       "version_minor": 0
      },
      "text/plain": [
       "VBox(children=(HBox(children=(IntSlider(value=256, description='X', max=511), IntSlider(value=256, description…"
      ]
     },
     "metadata": {},
     "output_type": "display_data"
    },
    {
     "data": {
      "application/vnd.jupyter.widget-view+json": {
       "model_id": "727975e9a9ec4691a724793a8e80449e",
       "version_major": 2,
       "version_minor": 0
      },
      "text/plain": [
       "Output()"
      ]
     },
     "metadata": {},
     "output_type": "display_data"
    }
   ],
   "source": [
    "cbct_in_ct_for_manual_read = sitk.ReadImage(os.path.join(result_path, 'cbct_in_ct_for_manual.nii'))\n",
    "\n",
    "wx = ipywidgets.IntSlider(value = ct_ref_float.GetSize()[0] // 2, min = 0, max = ct_ref_float.GetSize()[0] - 1, description='X')\n",
    "wy = ipywidgets.IntSlider(value = ct_ref_float.GetSize()[1] // 2, min = 0, max = ct_ref_float.GetSize()[1] - 1, description='Y')\n",
    "wz = ipywidgets.IntSlider(value = ct_ref_float.GetSize()[2] // 2, min = 0, max = ct_ref_float.GetSize()[2] - 1, description='Z')\n",
    "walpha = ipywidgets.FloatSlider(value = 0.5, min = 0., max = 1., description='Alpha')\n",
    "ui = ipywidgets.VBox([ipywidgets.HBox([wx, wy, wz]), ipywidgets.HBox([walpha])])\n",
    "\n",
    "out = ipywidgets.interactive_output(display_images_planes_with_alpha, \n",
    "                                    {'image_x': wx, 'image_y': wy, 'image_z': wz, 'alpha': walpha, \n",
    "                                     'fixed' : fixed(ct_ref_float), 'moving' : fixed(cbct_in_ct_for_manual_read)})\n",
    "\n",
    "display(ui, out)\n"
   ]
  },
  {
   "cell_type": "code",
   "execution_count": null,
   "metadata": {},
   "outputs": [],
   "source": []
  }
 ],
 "metadata": {
  "interpreter": {
   "hash": "2ad467792eb1a08447630e22a2df06015e5ebc1b4f0d4c559bf5f0d9894b6d23"
  },
  "kernelspec": {
   "display_name": "Python 3 (ipykernel)",
   "language": "python",
   "name": "python3"
  },
  "language_info": {
   "codemirror_mode": {
    "name": "ipython",
    "version": 3
   },
   "file_extension": ".py",
   "mimetype": "text/x-python",
   "name": "python",
   "nbconvert_exporter": "python",
   "pygments_lexer": "ipython3",
   "version": "3.7.4"
  }
 },
 "nbformat": 4,
 "nbformat_minor": 2
}
